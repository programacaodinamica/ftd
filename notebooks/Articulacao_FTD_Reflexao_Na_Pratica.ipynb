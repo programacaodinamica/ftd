{
  "nbformat": 4,
  "nbformat_minor": 0,
  "metadata": {
    "colab": {
      "name": "Articulacao FTD - Reflexao Na Pratica.ipynb",
      "provenance": [],
      "collapsed_sections": [],
      "include_colab_link": true
    },
    "kernelspec": {
      "name": "python3",
      "display_name": "Python 3"
    },
    "language_info": {
      "name": "python"
    }
  },
  "cells": [
    {
      "cell_type": "markdown",
      "metadata": {
        "id": "view-in-github",
        "colab_type": "text"
      },
      "source": [
        "<a href=\"https://colab.research.google.com/github/programacaodinamica/ftd/blob/main/notebooks/Articulacao_FTD_Reflexao_Na_Pratica.ipynb\" target=\"_parent\"><img src=\"https://colab.research.google.com/assets/colab-badge.svg\" alt=\"Open In Colab\"/></a>"
      ]
    },
    {
      "cell_type": "markdown",
      "metadata": {
        "id": "QQFds3VDZi0b"
      },
      "source": [
        "# 🔻 Instruções para o Estudante\n",
        "\n",
        "1. Preparamos uma atividade para que você tenha uma experiência com a linguagem de programação Python.\n",
        "1. Não tenha medo, mesmo que essa seja sua primeira experiência com programação. **Aprender algo totalmente novo é desafiador mesmo.**\n",
        "1. Leia atentamente cada orientação antes de executar os comandos.\n",
        "\n"
      ]
    },
    {
      "cell_type": "markdown",
      "metadata": {
        "id": "-Rr2Q0gtGD8r"
      },
      "source": [
        "# Sobre a ferramenta\n",
        "O documento que você está lendo não é um site comum da internet, mas um ambiente interativo chamado Colab `notebook` que permite escrever e executar códigos.\n",
        "\n",
        "Um `notebook` é uma lista de células que podem conter textos explicativos ou códigos executáveis e suas respectivas saídas.\n",
        "\n",
        "Essa ferramenta se chama Google Colab e foi criada pelo Google para facilitar a colaboração e o compartilhamento de programas escritos, sem necessidade de nenhuma configuração adicional. Basta abrir e começar a usar! \n",
        "\n",
        "\n",
        "\n",
        "\n"
      ]
    },
    {
      "cell_type": "markdown",
      "metadata": {
        "id": "3yxu7rZOCr0i"
      },
      "source": [
        "## O que são essas células de código?\n",
        "Abaixo está uma **célula de código**. Assim que o botão da barra de ferramentas indicar CONECTADO, clique na célula para selecioná-la e executar o conteúdo das seguintes maneiras:\n",
        "\n",
        "* Clique no `ícone PLAY` na lateral esquerda da célula;\n",
        "* Digite `Cmd / Ctrl + Enter` para executar a célula no lugar;\n",
        "* Digite `Shift + Enter` para executar a célula e ir para a próxima célula (adicionando uma se não houver); ou\n",
        "* Digite `Alt + Enter` para executar a célula e inserir uma nova célula de código imediatamente abaixo dela.\n",
        "\n",
        "**Utilizando o MENU**: Existem opções adicionais para executar algumas ou todas as células no menu no canto superior esquerdo. Clique em `Ambiente de Execução`.\n"
      ]
    },
    {
      "cell_type": "markdown",
      "metadata": {
        "id": "3B9LLLKDD7yJ"
      },
      "source": [
        "### Executando a primeira célula de código\n",
        "\n",
        "Aperte o `botão PLAY` na célula abaixo para reproduzir o código que importa as funções que iremos utilizar na atividade:"
      ]
    },
    {
      "cell_type": "code",
      "metadata": {
        "id": "025-Eo9USFn4"
      },
      "source": [
        "!wget -P . https://raw.githubusercontent.com/programacaodinamica/ftd/main/src/formas.py\n",
        "from formas import criar_figura, adicionar, desenhar, Circulo, mostrar_seletor_cor"
      ],
      "execution_count": null,
      "outputs": []
    },
    {
      "cell_type": "markdown",
      "metadata": {
        "id": "PEEvRp3iEXgX"
      },
      "source": [
        "**Feito!** Se você visualizou uma mensagem similar a essa:\n",
        "\n",
        "```markdown\n",
        "formas.py.1         100%[===================>]     867  --.-KB/s    in 0s\n",
        "\n",
        "2021-03-29 12:59:22 (44.4 MB/s) - ‘./formas.py.1’ saved [867/867]\n",
        "```\n",
        "\n",
        "Significa que você reproduziu a célula anteiror com sucesso.\n",
        "\n",
        "Caso algo tenha dado errado, retorne para executar a célula anterior, *não avance para a próxima etapa antes de finalizar essa tarefa.*\n",
        "\n",
        "--- \n",
        "⚠️⚠️⚠️  Fique atento:\n",
        "1. A ordem das células pode afetar o resultado\n",
        "1. Certifique-se de executar na ordem em que as instruções aparecem\n",
        "1. Caso você se depare com um erro ao executar uma célula, verifique se você não esqueceu de executar uma célula anterior; ou se não inseriu algum erro de digitação sem querer.\n",
        "----\n"
      ]
    },
    {
      "cell_type": "markdown",
      "metadata": {
        "id": "A_x82Yo2Zh-E"
      },
      "source": [
        "# 🔎 Experimentação\n",
        "\n",
        "Começamos aprendendo sobre os comandos que iremos utilizar a seguir. Nosso objetivo será construirmos diferentes figuras apenas com círculos. \n",
        "\n",
        "Para isso, utilizaremos a seguinte estrutura básica:\n",
        "1. Criar figura\n",
        "```markdown\n",
        "fig = criar_figura()\n",
        "```\n",
        "1.  Adicionar um ou mais círculos de raio \"r\" à figura\n",
        "```markdown\n",
        "adicionar(Circulo(r), fig)\n",
        "```\n",
        "1. Desenhar figura\n",
        "```markdown\n",
        "desenhar(fig)\n",
        "```\n",
        "\n",
        "**Observação:** Toda instrução que vier após o símbolo `#` não pertence aos comandos válidos. São comentários para explicar o que está sendo feito. Essa é uma boa prática que programadores utilizam para ajudar outros programadores que venham a ler o código a entender o que está sendo feito."
      ]
    },
    {
      "cell_type": "markdown",
      "metadata": {
        "id": "yOObcoa4K58V"
      },
      "source": [
        "Para aquecer vamos testar o funcionamento dos comandos com as instruções abaixo, execute a célula apertando `PLAY`:"
      ]
    },
    {
      "cell_type": "code",
      "metadata": {
        "id": "vProAdx0S73D"
      },
      "source": [
        "figura = criar_figura() # Criamos uma nova figura com o nome de \"figura\" (muito criativo!)\n",
        "adicionar(Circulo(5), figura) # Adicionamos o circulo de raio 5 à figura\n",
        "desenhar(figura) # Desenhamos a figura"
      ],
      "execution_count": null,
      "outputs": []
    },
    {
      "cell_type": "markdown",
      "metadata": {
        "id": "cuHE6Fp4o0H7"
      },
      "source": [
        "**MANDOU BEM!** 🚀 Depois de executar a célula anterior, você deve estar vendo um círculo preto na tela. \n",
        "\n",
        "Dica: você pode voltar na célula anterior substuir o tamanho do raio e executar a célula novamente."
      ]
    },
    {
      "cell_type": "markdown",
      "metadata": {
        "id": "hUF6qHN-UTsU"
      },
      "source": [
        "Podemos criar um círculo de outra cor especificando um código para cor. Analise a célula a seguir:"
      ]
    },
    {
      "cell_type": "code",
      "metadata": {
        "id": "0qCiTxKTpHQK"
      },
      "source": [
        "figura = criar_figura() # Reaproveitamos o mesmo nome \"figura\" para uma nova figura\n",
        "adicionar(Circulo(5, cor=\"#00ff00\"), figura) # Adicionamos o circulo de raio 5 com a cor #00ff00 à figura\n",
        "desenhar(figura) # Desenhamos a figura"
      ],
      "execution_count": null,
      "outputs": []
    },
    {
      "cell_type": "markdown",
      "metadata": {
        "id": "z2oryCOlpXC3"
      },
      "source": [
        "**AÊÊÊÊ!!!!** 🙌 Agora, temos um círculo na cor verde! Contudo, ainda não sabemos como descobrir o código que representa uma determinada cor? \n",
        "\n",
        "Vamos resolver este problema com um pequeno trecho de código que cria um ```seletor de cor```. Execute a célula a seguir e, quando o seletor de cor estiver visível, clique no quadradinho colorido para visualizar opções de cores. Quando estiver sobre a cor que deseja, basta apertar ```ENTER``` e o código da cor escolhida irá aparecer na caixinha abaixo."
      ]
    },
    {
      "cell_type": "code",
      "metadata": {
        "id": "au2tp87UaF9W"
      },
      "source": [
        "# Você pode selecionar uma cor executando esta célula\n",
        "# Quando o seletor de cor estiver visível, clique no quadradinho colorido \n",
        "mostrar_seletor_cor()"
      ],
      "execution_count": null,
      "outputs": []
    },
    {
      "cell_type": "markdown",
      "metadata": {
        "id": "RS2EenRYqT-p"
      },
      "source": [
        "## Prática: Testando novas possibilidades\n",
        "\n",
        "Execute a célula abaixo e observe o resultado. Você deve ver dois círculo concêntricos (de mesmo centro), porém de tamanhos diferentes, pois o raio de um é maior que do outro. \n",
        "\n",
        "**Orientações:**\n",
        "\n",
        "* Use o seletor de cor acima para verificar o código de algumas cores e *experimente modificar as instruções na célula abaixo* com novos valores de cores para os círculos.\n",
        "* Experimente adicionar mais círculos com diferentes valores de raio. *Se o raio do círculo for superior a 10, ele pode não aparecer por completo na figura.*"
      ]
    },
    {
      "cell_type": "code",
      "metadata": {
        "id": "eX6a78O4qSdp"
      },
      "source": [
        "# Reaproveitamos o mesmo nome \"figura\" para uma nova figura\n",
        "figura = criar_figura()\n",
        "# adicionamos dois círculos desta vez\n",
        "adicionar(Circulo(4, cor=\"#00ffff\"), figura)\n",
        "# o circulo de raio menor é adicionado depois para ser desenhado por cima do maior\n",
        "adicionar(Circulo(2, cor=\"#ff0000\"), figura)\n",
        "# desenhamos a figura\n",
        "desenhar(figura)"
      ],
      "execution_count": null,
      "outputs": []
    },
    {
      "cell_type": "markdown",
      "metadata": {
        "id": "WfM_U3owXe05"
      },
      "source": [
        "\n",
        "---\n",
        "**Parabéns!** Você acabou de ter uma experiência de programação na linguagem Python!!! 🥳🥳🥳🥳🥳🥳\n",
        "\n",
        "---\n"
      ]
    },
    {
      "cell_type": "markdown",
      "metadata": {
        "id": "Xr9JHDu6YDN7"
      },
      "source": [
        "## Programar é só isso?\n",
        "O que fizemos até aqui já ilustrta como podemos nos comunicar com as máquinas: a tão falada programação.\n",
        "\n",
        "*Mas, ainda há muito mais que podemos fazer.* A seguir iremos aprender sobre alguns fundamentos da programação que nos permitem criar instruções mais elaboradas para a máquina, como, por exemplo, executar comandos repetidamente de maneira automática 👀\n",
        "\n",
        "Bora aprender mais sobre isso?\n",
        "\n"
      ]
    },
    {
      "cell_type": "markdown",
      "metadata": {
        "id": "2w0Pv0LZe-cU"
      },
      "source": [
        "# 🔄 Repetições\n",
        "\n",
        "Em uma linguagem de programação, é importante que possamos expressar repetições de instruções. A execução de tarefas repetidas de maneira rapida é uma das coisas em que as máquinas são melhores do que nós. \n",
        "\n",
        "Na linguagem de programação Python, podemos realizar repetições usando a expressão `for`. O exemplo a seguir cria um contador `i` que assume valores dentro do intervalo de 0 a 9 (o 10, último valor do intervalo, não é incluído)"
      ]
    },
    {
      "cell_type": "code",
      "metadata": {
        "id": "GSddUiLEUhfF"
      },
      "source": [
        "for i in range(0, 10):\n",
        "  print(i)\n",
        "# repare que o que será repetido precisa estar \"empurrado\" pra dentro do for"
      ],
      "execution_count": null,
      "outputs": []
    },
    {
      "cell_type": "markdown",
      "metadata": {
        "id": "kZuJV_jKfeTi"
      },
      "source": [
        "Além do `raio` e da `cor` do `Circulo`, podemos especificar alguns outros parâmetros que modificam o desenho. A `transparencia` é um deles.\n",
        "\n",
        "Podemos usar o `for`, por exemplo, para desenhar círculos com diversos graus de transparência. Como um círculo de raio 0 não faz sentido pra gente, começaremos nosso intervalo a partir do número 1."
      ]
    },
    {
      "cell_type": "code",
      "metadata": {
        "id": "ZnbAFNsgfbjZ"
      },
      "source": [
        "figura2 = criar_figura() # criamos uma nova figura, desta vez, com o nome figura2\n",
        "\n",
        "for i in range(1, 10):\n",
        "  # repetiremos a ação de adicionar variando o raio e a transparência\n",
        "  adicionar( Circulo(raio=10-i, cor=\"#ff0000\", transparencia=i/40), figura2 )\n",
        "\n",
        "# não repetiremos a instrução desenhar, por isso ela não está \"empurrada\" pra dentro do for\n",
        "desenhar(figura2)"
      ],
      "execution_count": null,
      "outputs": []
    },
    {
      "cell_type": "markdown",
      "metadata": {
        "id": "IETGgPAWhH8P"
      },
      "source": [
        "## Movendo o círculo!\n",
        "\n",
        "O último parâmetro do círculo que podemos modificar é o centro do círulo. Podemos usar o que aprendemos para mover o centro dos círculos e ter uma imagem deste deslocamento!"
      ]
    },
    {
      "cell_type": "code",
      "metadata": {
        "id": "lLJ_YGDoghNd"
      },
      "source": [
        "figura2 = criar_figura()\n",
        "for i in range(1, 10):\n",
        "  # repetiremos a ação de adicionar, desta vez, modificando o centro e a transparência\n",
        "  adicionar( Circulo(raio=1, centro=(i, i), cor=\"#ff0000\", transparencia=i/15), figura2 )\n",
        "\n",
        "# não repetiremos a instrução desenhar, por isso ela não está \"empurrada\" pra dentro do for\n",
        "desenhar(figura2)"
      ],
      "execution_count": null,
      "outputs": []
    },
    {
      "cell_type": "markdown",
      "metadata": {
        "id": "h_lS4MKjioTz"
      },
      "source": [
        "## Prática\n",
        "\n",
        "* Na célula anterior, experimente modificar os valores para o centro do círculo e também para transparência. Por exemplo, mude o parâmetro centro para `(0, i)` ou `(i, -i)` e verifique o que acontece. \n",
        "* Também tente mudar a `transparencia` para algo como `i/10` ou `i/100`. \n",
        "\n",
        "Você é livre para tentar quaisquer valores e observar os resultados."
      ]
    },
    {
      "cell_type": "code",
      "metadata": {
        "id": "T1rJa9VohjyZ"
      },
      "source": [
        "# Se preferir, você pode experimentar seu código aqui, copiando o anterior como base"
      ],
      "execution_count": null,
      "outputs": []
    },
    {
      "cell_type": "markdown",
      "metadata": {
        "id": "OmT7XbOpjza2"
      },
      "source": [
        "# 📍 Condições\n",
        "\n",
        "Um outro recurso muito importante dentro de uma linguagem de programação é a possibilidade de dar respostas diferentes dependendo de um valor do programa. Por exemplo, podemos optar por desenhar um círculo azul quando um determinado valor for par ou um círculo vermelho caso este valor seja ímpar. Abaixo, definimos a instrução `eh_par`, necessária para verificar se um número é par."
      ]
    },
    {
      "cell_type": "code",
      "metadata": {
        "id": "LilzBC9MkRuk"
      },
      "source": [
        "def eh_par(n):\n",
        "  # um número é par se o resto de sua divisão por 2 for igual a 0\n",
        "  return n % 2 == 0"
      ],
      "execution_count": null,
      "outputs": []
    },
    {
      "cell_type": "markdown",
      "metadata": {
        "id": "iT9k5Sbnkg70"
      },
      "source": [
        "Agora, podemos utilizar a instrução `eh_par` que acabamos de definir em conjunto com a instrução `if` e `else` (*se* e *senão*), que nos permite fazer programas com respostas diferentes a depender de um valor."
      ]
    },
    {
      "cell_type": "code",
      "metadata": {
        "id": "VfVqy6lok4t-"
      },
      "source": [
        "dia = 24\n",
        "figura3 = criar_figura()\n",
        "\n",
        "# se o dia for par\n",
        "if eh_par(dia):\n",
        "  cor_do_dia = \"#0000FF\"\n",
        "# senão (ou seja, se for ímpar)\n",
        "else:\n",
        "  cor_do_dia = \"#FF0000\"\n",
        "\n",
        "adicionar(Circulo(raio=3, cor=cor_do_dia), figura3)\n",
        "desenhar(figura3)"
      ],
      "execution_count": null,
      "outputs": []
    },
    {
      "cell_type": "markdown",
      "metadata": {
        "id": "wAauhipxlxhR"
      },
      "source": [
        "## Prática\n",
        "Perceba que o valor da `cor_do_dia` depende do valor do `dia`. \n",
        "* Experimente mudar o valor de `dia` e executar novamente."
      ]
    },
    {
      "cell_type": "code",
      "metadata": {
        "id": "C2lElG5BlrVY"
      },
      "source": [
        "# Se quiser fazer outros experimentos, use este espaço"
      ],
      "execution_count": null,
      "outputs": []
    },
    {
      "cell_type": "markdown",
      "metadata": {
        "id": "VmK-fiD8mLRj"
      },
      "source": [
        "# 😎 Juntando tudo! \n",
        "\n",
        "Pra finalizar, vamos misturar tudo o que aprendemos. Que tal fazermos círculos concêntricos com cores alternadas?"
      ]
    },
    {
      "cell_type": "code",
      "metadata": {
        "id": "c7Nhc6LumY4S"
      },
      "source": [
        "figura4 = criar_figura()\n",
        "\n",
        "for i in range(1, 10):\n",
        "  if eh_par(i):\n",
        "    cor_da_vez = \"#58a5d5\"\n",
        "  else:\n",
        "    cor_da_vez = \"#d558a7\"\n",
        "  \n",
        "  adicionar(Circulo(raio=10-i, cor=cor_da_vez, transparencia=0.5), figura4)\n",
        "\n",
        "desenhar(figura4)"
      ],
      "execution_count": null,
      "outputs": []
    },
    {
      "cell_type": "markdown",
      "metadata": {
        "id": "mR-U3NO2ybwy"
      },
      "source": [
        "## ✅ Reflexão na Prática\n",
        "\n",
        "Pense por alguns instantes e use a sua criatividade: o que mais você imagina que seria capaz de fazer com os recursos que você acaba de aprender? Você não precisa se preocupar em escrever um programa para implementar suas ideias, então não se limite por isso. \n",
        "\n",
        "<br/> \n",
        "*É claro que se você quiser topar o desafio, pode ficar à vontade para usar o espaço abaixo e tentar ;)*"
      ]
    },
    {
      "cell_type": "code",
      "metadata": {
        "id": "bPKaC7jFzMy9"
      },
      "source": [
        "# Se você gostou muito desta atividade, este espaço é todo seu!"
      ],
      "execution_count": null,
      "outputs": []
    },
    {
      "cell_type": "markdown",
      "metadata": {
        "id": "kwYgjRxAuULp"
      },
      "source": [
        "# 🏆 Fim da linha! \n",
        "Parabéns por ter se desafiado até aqui. Saiba que agora você está mais próximo do mundo dos programadores do que você imagina. Se você gostou e ficou curioso para aprender mais, incentivamos que não pare por aqui.\n"
      ]
    }
  ]
}